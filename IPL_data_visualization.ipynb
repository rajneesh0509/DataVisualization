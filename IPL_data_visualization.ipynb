{
 "cells": [
  {
   "cell_type": "markdown",
   "id": "649ab04d",
   "metadata": {
    "id": "649ab04d"
   },
   "source": [
    "<h1><center>Work Integrated Learning Programmes Division<br>\n",
    "M.Tech (Data Science and Engineering)<br> Data Visualization And Interpretation (DSECL ZG555))<br>\n",
    "Second Semester, 2021-22\n",
    "</center></h1>\n",
    "\n",
    "<h2><center>Assignment 2 – PS10 [Weightage 13%]</center></h2>"
   ]
  },
  {
   "cell_type": "markdown",
   "id": "7a12f7fb",
   "metadata": {
    "id": "7a12f7fb"
   },
   "source": [
    "<ol>\n",
    "  <li>Do not change the name of the data file that is shared with the problem statement.</li>\n",
    "  <li>If intermediate data files are created, retain in the present working directory and attach them during submission.</li>\n",
    "  <li>Retain the data file in the same directory as that of this workbook.</li>\n",
    "  <li>Retain the Visualizations that is produced in the file. Don't clear them away.</li>\n",
    "   <li><div>All the visuals should adhere to the visualization principles learnt in the Course and must be presentation ready. Most effective visuals would fetch maximum credits</div></li>    \n",
    "    <li><div>Submissions done via means other than CANVAS will strictly be NOT graded.</div></li>\n",
    "</ol>"
   ]
  },
  {
   "cell_type": "markdown",
   "id": "847a6cd9",
   "metadata": {
    "id": "847a6cd9"
   },
   "source": [
    "<h1>Objective</h1>\n",
    "<h4>The objective is to analyze cricket teams and players performance accross the seasons to identify the outstanding performers.</h4>"
   ]
  },
  {
   "cell_type": "markdown",
   "id": "20547c0c",
   "metadata": {
    "id": "20547c0c"
   },
   "source": [
    "Both input data files should be considered"
   ]
  },
  {
   "cell_type": "markdown",
   "id": "76542011",
   "metadata": {
    "id": "76542011"
   },
   "source": [
    "<style>\n",
    "table {\n",
    "  font-family: arial, sans-serif;\n",
    "  border-collapse: collapse;\n",
    "  width: 100%;\n",
    "}\n",
    "\n",
    "td, th {\n",
    "  border: 1px solid #dddddd;\n",
    "  text-align: left;\n",
    "  padding: 8px;\n",
    "}\n",
    "\n",
    "tr:nth-child(even) {\n",
    "  background-color: #dddddd;\n",
    "}\n",
    "</style>\n",
    "\n",
    "<h2>Group No: (DVI Group 135)</h2>\n",
    "\n",
    "<table>\n",
    "  <tr>\n",
    "    <th>Full Name</th>\n",
    "    <th>BITS ID</th>\n",
    "  </tr>\n",
    "  <tr>\n",
    "    <td>RADHIKA OMKAR DATAR</td>\n",
    "    <td>2021SC04408</td>\n",
    "  </tr>\n",
    "  <tr>\n",
    "    <td>RAJNEESH KUMAR</td>\n",
    "    <td>2021SC04455</td>\n",
    "  </tr>\n",
    "  <tr>\n",
    "    <td>DEVANSH SINHA</td>\n",
    "    <td>2021SC04100</td>\n",
    "  </tr>\n",
    "  <tr>\n",
    "    <td>ROHIT SRIVASTAVA</td>\n",
    "    <td>2021SC04410</td>\n",
    "  </tr>\n",
    "</table>"
   ]
  },
  {
   "cell_type": "markdown",
   "id": "86b66f78",
   "metadata": {
    "id": "86b66f78"
   },
   "source": [
    "#  Data Preparation : 1 Mark"
   ]
  },
  {
   "cell_type": "markdown",
   "id": "a8451d42",
   "metadata": {
    "id": "a8451d42"
   },
   "source": [
    "Import the libraries needed"
   ]
  },
  {
   "cell_type": "code",
   "execution_count": 1,
   "id": "72fa0ec8",
   "metadata": {
    "id": "72fa0ec8"
   },
   "outputs": [],
   "source": [
    "import numpy as np\n",
    "import pandas as pd\n",
    "import matplotlib.pyplot as plt\n",
    "%matplotlib inline\n",
    "import seaborn as sns"
   ]
  },
  {
   "cell_type": "code",
   "execution_count": null,
   "id": "jvd50eYo7y9I",
   "metadata": {
    "id": "jvd50eYo7y9I"
   },
   "outputs": [],
   "source": []
  },
  {
   "cell_type": "markdown",
   "id": "ad0e14d4",
   "metadata": {
    "id": "ad0e14d4"
   },
   "source": [
    "Load data and store in dataframe"
   ]
  },
  {
   "cell_type": "code",
   "execution_count": 2,
   "id": "5JLmhRLOkryy",
   "metadata": {
    "colab": {
     "base_uri": "https://localhost:8080/"
    },
    "id": "5JLmhRLOkryy",
    "outputId": "b26d17e2-f45b-47dd-e00a-6127da602cb3"
   },
   "outputs": [],
   "source": [
    "#from google.colab import drive\n",
    "#drive.mount('/content/drive')\n",
    "#df1 = pd.read_csv(\"/content/drive/MyDrive/DVI_assignment-2/dvi-a2-ps10-data1.csv\")\n",
    "#df2 = pd.read_csv(\"/content/drive/MyDrive/DVI_assignment-2/dvi-a2-ps10-data2.csv\")"
   ]
  },
  {
   "cell_type": "code",
   "execution_count": 3,
   "id": "c050c051",
   "metadata": {
    "id": "c050c051"
   },
   "outputs": [],
   "source": [
    "df1 = pd.read_csv(\"dvi-a2-ps10-data1.csv\")\n",
    "df2 = pd.read_csv(\"dvi-a2-ps10-data2.csv\")"
   ]
  },
  {
   "cell_type": "code",
   "execution_count": 4,
   "id": "55bebe27",
   "metadata": {
    "id": "55bebe27"
   },
   "outputs": [],
   "source": [
    "# Display First ten items from both the input files\n"
   ]
  },
  {
   "cell_type": "code",
   "execution_count": 5,
   "id": "XvCG7OhQlpbl",
   "metadata": {
    "colab": {
     "base_uri": "https://localhost:8080/",
     "height": 804
    },
    "id": "XvCG7OhQlpbl",
    "outputId": "60554123-f7cb-4428-856e-379dd6ff3816"
   },
   "outputs": [
    {
     "data": {
      "text/html": [
       "<div>\n",
       "<style scoped>\n",
       "    .dataframe tbody tr th:only-of-type {\n",
       "        vertical-align: middle;\n",
       "    }\n",
       "\n",
       "    .dataframe tbody tr th {\n",
       "        vertical-align: top;\n",
       "    }\n",
       "\n",
       "    .dataframe thead th {\n",
       "        text-align: right;\n",
       "    }\n",
       "</style>\n",
       "<table border=\"1\" class=\"dataframe\">\n",
       "  <thead>\n",
       "    <tr style=\"text-align: right;\">\n",
       "      <th></th>\n",
       "      <th>match_id</th>\n",
       "      <th>inning</th>\n",
       "      <th>batting_team</th>\n",
       "      <th>bowling_team</th>\n",
       "      <th>over</th>\n",
       "      <th>ball</th>\n",
       "      <th>batsman</th>\n",
       "      <th>non_striker</th>\n",
       "      <th>bowler</th>\n",
       "      <th>is_super_over</th>\n",
       "      <th>...</th>\n",
       "      <th>bye_runs</th>\n",
       "      <th>legbye_runs</th>\n",
       "      <th>noball_runs</th>\n",
       "      <th>penalty_runs</th>\n",
       "      <th>batsman_runs</th>\n",
       "      <th>extra_runs</th>\n",
       "      <th>total_runs</th>\n",
       "      <th>player_dismissed</th>\n",
       "      <th>dismissal_kind</th>\n",
       "      <th>fielder</th>\n",
       "    </tr>\n",
       "  </thead>\n",
       "  <tbody>\n",
       "    <tr>\n",
       "      <th>0</th>\n",
       "      <td>1</td>\n",
       "      <td>1</td>\n",
       "      <td>Sunrisers Hyderabad</td>\n",
       "      <td>Royal Challengers Bangalore</td>\n",
       "      <td>1</td>\n",
       "      <td>1</td>\n",
       "      <td>DA Warner</td>\n",
       "      <td>S Dhawan</td>\n",
       "      <td>TS Mills</td>\n",
       "      <td>0</td>\n",
       "      <td>...</td>\n",
       "      <td>0</td>\n",
       "      <td>0</td>\n",
       "      <td>0</td>\n",
       "      <td>0</td>\n",
       "      <td>0</td>\n",
       "      <td>0</td>\n",
       "      <td>0</td>\n",
       "      <td>NaN</td>\n",
       "      <td>NaN</td>\n",
       "      <td>NaN</td>\n",
       "    </tr>\n",
       "    <tr>\n",
       "      <th>1</th>\n",
       "      <td>1</td>\n",
       "      <td>1</td>\n",
       "      <td>Sunrisers Hyderabad</td>\n",
       "      <td>Royal Challengers Bangalore</td>\n",
       "      <td>1</td>\n",
       "      <td>2</td>\n",
       "      <td>DA Warner</td>\n",
       "      <td>S Dhawan</td>\n",
       "      <td>TS Mills</td>\n",
       "      <td>0</td>\n",
       "      <td>...</td>\n",
       "      <td>0</td>\n",
       "      <td>0</td>\n",
       "      <td>0</td>\n",
       "      <td>0</td>\n",
       "      <td>0</td>\n",
       "      <td>0</td>\n",
       "      <td>0</td>\n",
       "      <td>NaN</td>\n",
       "      <td>NaN</td>\n",
       "      <td>NaN</td>\n",
       "    </tr>\n",
       "    <tr>\n",
       "      <th>2</th>\n",
       "      <td>1</td>\n",
       "      <td>1</td>\n",
       "      <td>Sunrisers Hyderabad</td>\n",
       "      <td>Royal Challengers Bangalore</td>\n",
       "      <td>1</td>\n",
       "      <td>3</td>\n",
       "      <td>DA Warner</td>\n",
       "      <td>S Dhawan</td>\n",
       "      <td>TS Mills</td>\n",
       "      <td>0</td>\n",
       "      <td>...</td>\n",
       "      <td>0</td>\n",
       "      <td>0</td>\n",
       "      <td>0</td>\n",
       "      <td>0</td>\n",
       "      <td>4</td>\n",
       "      <td>0</td>\n",
       "      <td>4</td>\n",
       "      <td>NaN</td>\n",
       "      <td>NaN</td>\n",
       "      <td>NaN</td>\n",
       "    </tr>\n",
       "    <tr>\n",
       "      <th>3</th>\n",
       "      <td>1</td>\n",
       "      <td>1</td>\n",
       "      <td>Sunrisers Hyderabad</td>\n",
       "      <td>Royal Challengers Bangalore</td>\n",
       "      <td>1</td>\n",
       "      <td>4</td>\n",
       "      <td>DA Warner</td>\n",
       "      <td>S Dhawan</td>\n",
       "      <td>TS Mills</td>\n",
       "      <td>0</td>\n",
       "      <td>...</td>\n",
       "      <td>0</td>\n",
       "      <td>0</td>\n",
       "      <td>0</td>\n",
       "      <td>0</td>\n",
       "      <td>0</td>\n",
       "      <td>0</td>\n",
       "      <td>0</td>\n",
       "      <td>NaN</td>\n",
       "      <td>NaN</td>\n",
       "      <td>NaN</td>\n",
       "    </tr>\n",
       "    <tr>\n",
       "      <th>4</th>\n",
       "      <td>1</td>\n",
       "      <td>1</td>\n",
       "      <td>Sunrisers Hyderabad</td>\n",
       "      <td>Royal Challengers Bangalore</td>\n",
       "      <td>1</td>\n",
       "      <td>5</td>\n",
       "      <td>DA Warner</td>\n",
       "      <td>S Dhawan</td>\n",
       "      <td>TS Mills</td>\n",
       "      <td>0</td>\n",
       "      <td>...</td>\n",
       "      <td>0</td>\n",
       "      <td>0</td>\n",
       "      <td>0</td>\n",
       "      <td>0</td>\n",
       "      <td>0</td>\n",
       "      <td>2</td>\n",
       "      <td>2</td>\n",
       "      <td>NaN</td>\n",
       "      <td>NaN</td>\n",
       "      <td>NaN</td>\n",
       "    </tr>\n",
       "    <tr>\n",
       "      <th>5</th>\n",
       "      <td>1</td>\n",
       "      <td>1</td>\n",
       "      <td>Sunrisers Hyderabad</td>\n",
       "      <td>Royal Challengers Bangalore</td>\n",
       "      <td>1</td>\n",
       "      <td>6</td>\n",
       "      <td>S Dhawan</td>\n",
       "      <td>DA Warner</td>\n",
       "      <td>TS Mills</td>\n",
       "      <td>0</td>\n",
       "      <td>...</td>\n",
       "      <td>0</td>\n",
       "      <td>0</td>\n",
       "      <td>0</td>\n",
       "      <td>0</td>\n",
       "      <td>0</td>\n",
       "      <td>0</td>\n",
       "      <td>0</td>\n",
       "      <td>NaN</td>\n",
       "      <td>NaN</td>\n",
       "      <td>NaN</td>\n",
       "    </tr>\n",
       "    <tr>\n",
       "      <th>6</th>\n",
       "      <td>1</td>\n",
       "      <td>1</td>\n",
       "      <td>Sunrisers Hyderabad</td>\n",
       "      <td>Royal Challengers Bangalore</td>\n",
       "      <td>1</td>\n",
       "      <td>7</td>\n",
       "      <td>S Dhawan</td>\n",
       "      <td>DA Warner</td>\n",
       "      <td>TS Mills</td>\n",
       "      <td>0</td>\n",
       "      <td>...</td>\n",
       "      <td>0</td>\n",
       "      <td>1</td>\n",
       "      <td>0</td>\n",
       "      <td>0</td>\n",
       "      <td>0</td>\n",
       "      <td>1</td>\n",
       "      <td>1</td>\n",
       "      <td>NaN</td>\n",
       "      <td>NaN</td>\n",
       "      <td>NaN</td>\n",
       "    </tr>\n",
       "    <tr>\n",
       "      <th>7</th>\n",
       "      <td>1</td>\n",
       "      <td>1</td>\n",
       "      <td>Sunrisers Hyderabad</td>\n",
       "      <td>Royal Challengers Bangalore</td>\n",
       "      <td>2</td>\n",
       "      <td>1</td>\n",
       "      <td>S Dhawan</td>\n",
       "      <td>DA Warner</td>\n",
       "      <td>A Choudhary</td>\n",
       "      <td>0</td>\n",
       "      <td>...</td>\n",
       "      <td>0</td>\n",
       "      <td>0</td>\n",
       "      <td>0</td>\n",
       "      <td>0</td>\n",
       "      <td>1</td>\n",
       "      <td>0</td>\n",
       "      <td>1</td>\n",
       "      <td>NaN</td>\n",
       "      <td>NaN</td>\n",
       "      <td>NaN</td>\n",
       "    </tr>\n",
       "    <tr>\n",
       "      <th>8</th>\n",
       "      <td>1</td>\n",
       "      <td>1</td>\n",
       "      <td>Sunrisers Hyderabad</td>\n",
       "      <td>Royal Challengers Bangalore</td>\n",
       "      <td>2</td>\n",
       "      <td>2</td>\n",
       "      <td>DA Warner</td>\n",
       "      <td>S Dhawan</td>\n",
       "      <td>A Choudhary</td>\n",
       "      <td>0</td>\n",
       "      <td>...</td>\n",
       "      <td>0</td>\n",
       "      <td>0</td>\n",
       "      <td>0</td>\n",
       "      <td>0</td>\n",
       "      <td>4</td>\n",
       "      <td>0</td>\n",
       "      <td>4</td>\n",
       "      <td>NaN</td>\n",
       "      <td>NaN</td>\n",
       "      <td>NaN</td>\n",
       "    </tr>\n",
       "    <tr>\n",
       "      <th>9</th>\n",
       "      <td>1</td>\n",
       "      <td>1</td>\n",
       "      <td>Sunrisers Hyderabad</td>\n",
       "      <td>Royal Challengers Bangalore</td>\n",
       "      <td>2</td>\n",
       "      <td>3</td>\n",
       "      <td>DA Warner</td>\n",
       "      <td>S Dhawan</td>\n",
       "      <td>A Choudhary</td>\n",
       "      <td>0</td>\n",
       "      <td>...</td>\n",
       "      <td>0</td>\n",
       "      <td>0</td>\n",
       "      <td>1</td>\n",
       "      <td>0</td>\n",
       "      <td>0</td>\n",
       "      <td>1</td>\n",
       "      <td>1</td>\n",
       "      <td>NaN</td>\n",
       "      <td>NaN</td>\n",
       "      <td>NaN</td>\n",
       "    </tr>\n",
       "  </tbody>\n",
       "</table>\n",
       "<p>10 rows × 21 columns</p>\n",
       "</div>"
      ],
      "text/plain": [
       "   match_id  inning         batting_team                 bowling_team  over  \\\n",
       "0         1       1  Sunrisers Hyderabad  Royal Challengers Bangalore     1   \n",
       "1         1       1  Sunrisers Hyderabad  Royal Challengers Bangalore     1   \n",
       "2         1       1  Sunrisers Hyderabad  Royal Challengers Bangalore     1   \n",
       "3         1       1  Sunrisers Hyderabad  Royal Challengers Bangalore     1   \n",
       "4         1       1  Sunrisers Hyderabad  Royal Challengers Bangalore     1   \n",
       "5         1       1  Sunrisers Hyderabad  Royal Challengers Bangalore     1   \n",
       "6         1       1  Sunrisers Hyderabad  Royal Challengers Bangalore     1   \n",
       "7         1       1  Sunrisers Hyderabad  Royal Challengers Bangalore     2   \n",
       "8         1       1  Sunrisers Hyderabad  Royal Challengers Bangalore     2   \n",
       "9         1       1  Sunrisers Hyderabad  Royal Challengers Bangalore     2   \n",
       "\n",
       "   ball    batsman non_striker       bowler  is_super_over  ...  bye_runs  \\\n",
       "0     1  DA Warner    S Dhawan     TS Mills              0  ...         0   \n",
       "1     2  DA Warner    S Dhawan     TS Mills              0  ...         0   \n",
       "2     3  DA Warner    S Dhawan     TS Mills              0  ...         0   \n",
       "3     4  DA Warner    S Dhawan     TS Mills              0  ...         0   \n",
       "4     5  DA Warner    S Dhawan     TS Mills              0  ...         0   \n",
       "5     6   S Dhawan   DA Warner     TS Mills              0  ...         0   \n",
       "6     7   S Dhawan   DA Warner     TS Mills              0  ...         0   \n",
       "7     1   S Dhawan   DA Warner  A Choudhary              0  ...         0   \n",
       "8     2  DA Warner    S Dhawan  A Choudhary              0  ...         0   \n",
       "9     3  DA Warner    S Dhawan  A Choudhary              0  ...         0   \n",
       "\n",
       "   legbye_runs  noball_runs  penalty_runs  batsman_runs  extra_runs  \\\n",
       "0            0            0             0             0           0   \n",
       "1            0            0             0             0           0   \n",
       "2            0            0             0             4           0   \n",
       "3            0            0             0             0           0   \n",
       "4            0            0             0             0           2   \n",
       "5            0            0             0             0           0   \n",
       "6            1            0             0             0           1   \n",
       "7            0            0             0             1           0   \n",
       "8            0            0             0             4           0   \n",
       "9            0            1             0             0           1   \n",
       "\n",
       "   total_runs  player_dismissed dismissal_kind fielder  \n",
       "0           0               NaN            NaN     NaN  \n",
       "1           0               NaN            NaN     NaN  \n",
       "2           4               NaN            NaN     NaN  \n",
       "3           0               NaN            NaN     NaN  \n",
       "4           2               NaN            NaN     NaN  \n",
       "5           0               NaN            NaN     NaN  \n",
       "6           1               NaN            NaN     NaN  \n",
       "7           1               NaN            NaN     NaN  \n",
       "8           4               NaN            NaN     NaN  \n",
       "9           1               NaN            NaN     NaN  \n",
       "\n",
       "[10 rows x 21 columns]"
      ]
     },
     "execution_count": 5,
     "metadata": {},
     "output_type": "execute_result"
    }
   ],
   "source": [
    "df1.head(10)   # First 10 items of file 1"
   ]
  },
  {
   "cell_type": "code",
   "execution_count": 6,
   "id": "2r8J9cZ5lpOd",
   "metadata": {
    "colab": {
     "base_uri": "https://localhost:8080/",
     "height": 844
    },
    "id": "2r8J9cZ5lpOd",
    "outputId": "959de2a4-facb-458a-da9d-8179950b6397"
   },
   "outputs": [
    {
     "data": {
      "text/html": [
       "<div>\n",
       "<style scoped>\n",
       "    .dataframe tbody tr th:only-of-type {\n",
       "        vertical-align: middle;\n",
       "    }\n",
       "\n",
       "    .dataframe tbody tr th {\n",
       "        vertical-align: top;\n",
       "    }\n",
       "\n",
       "    .dataframe thead th {\n",
       "        text-align: right;\n",
       "    }\n",
       "</style>\n",
       "<table border=\"1\" class=\"dataframe\">\n",
       "  <thead>\n",
       "    <tr style=\"text-align: right;\">\n",
       "      <th></th>\n",
       "      <th>id</th>\n",
       "      <th>season</th>\n",
       "      <th>city</th>\n",
       "      <th>date</th>\n",
       "      <th>team1</th>\n",
       "      <th>team2</th>\n",
       "      <th>toss_winner</th>\n",
       "      <th>toss_decision</th>\n",
       "      <th>result</th>\n",
       "      <th>dl_applied</th>\n",
       "      <th>winner</th>\n",
       "      <th>win_by_runs</th>\n",
       "      <th>win_by_wickets</th>\n",
       "      <th>player_of_match</th>\n",
       "      <th>venue</th>\n",
       "      <th>umpire1</th>\n",
       "      <th>umpire2</th>\n",
       "      <th>umpire3</th>\n",
       "    </tr>\n",
       "  </thead>\n",
       "  <tbody>\n",
       "    <tr>\n",
       "      <th>0</th>\n",
       "      <td>1</td>\n",
       "      <td>2017</td>\n",
       "      <td>Hyderabad</td>\n",
       "      <td>2017-04-05</td>\n",
       "      <td>Sunrisers Hyderabad</td>\n",
       "      <td>Royal Challengers Bangalore</td>\n",
       "      <td>Royal Challengers Bangalore</td>\n",
       "      <td>field</td>\n",
       "      <td>normal</td>\n",
       "      <td>0</td>\n",
       "      <td>Sunrisers Hyderabad</td>\n",
       "      <td>35</td>\n",
       "      <td>0</td>\n",
       "      <td>Yuvraj Singh</td>\n",
       "      <td>Rajiv Gandhi International Stadium, Uppal</td>\n",
       "      <td>AY Dandekar</td>\n",
       "      <td>NJ Llong</td>\n",
       "      <td>NaN</td>\n",
       "    </tr>\n",
       "    <tr>\n",
       "      <th>1</th>\n",
       "      <td>2</td>\n",
       "      <td>2017</td>\n",
       "      <td>Pune</td>\n",
       "      <td>2017-04-06</td>\n",
       "      <td>Mumbai Indians</td>\n",
       "      <td>Rising Pune Supergiant</td>\n",
       "      <td>Rising Pune Supergiant</td>\n",
       "      <td>field</td>\n",
       "      <td>normal</td>\n",
       "      <td>0</td>\n",
       "      <td>Rising Pune Supergiant</td>\n",
       "      <td>0</td>\n",
       "      <td>7</td>\n",
       "      <td>SPD Smith</td>\n",
       "      <td>Maharashtra Cricket Association Stadium</td>\n",
       "      <td>A Nand Kishore</td>\n",
       "      <td>S Ravi</td>\n",
       "      <td>NaN</td>\n",
       "    </tr>\n",
       "    <tr>\n",
       "      <th>2</th>\n",
       "      <td>3</td>\n",
       "      <td>2017</td>\n",
       "      <td>Rajkot</td>\n",
       "      <td>2017-04-07</td>\n",
       "      <td>Gujarat Lions</td>\n",
       "      <td>Kolkata Knight Riders</td>\n",
       "      <td>Kolkata Knight Riders</td>\n",
       "      <td>field</td>\n",
       "      <td>normal</td>\n",
       "      <td>0</td>\n",
       "      <td>Kolkata Knight Riders</td>\n",
       "      <td>0</td>\n",
       "      <td>10</td>\n",
       "      <td>CA Lynn</td>\n",
       "      <td>Saurashtra Cricket Association Stadium</td>\n",
       "      <td>Nitin Menon</td>\n",
       "      <td>CK Nandan</td>\n",
       "      <td>NaN</td>\n",
       "    </tr>\n",
       "    <tr>\n",
       "      <th>3</th>\n",
       "      <td>4</td>\n",
       "      <td>2017</td>\n",
       "      <td>Indore</td>\n",
       "      <td>2017-04-08</td>\n",
       "      <td>Rising Pune Supergiant</td>\n",
       "      <td>Kings XI Punjab</td>\n",
       "      <td>Kings XI Punjab</td>\n",
       "      <td>field</td>\n",
       "      <td>normal</td>\n",
       "      <td>0</td>\n",
       "      <td>Kings XI Punjab</td>\n",
       "      <td>0</td>\n",
       "      <td>6</td>\n",
       "      <td>GJ Maxwell</td>\n",
       "      <td>Holkar Cricket Stadium</td>\n",
       "      <td>AK Chaudhary</td>\n",
       "      <td>C Shamshuddin</td>\n",
       "      <td>NaN</td>\n",
       "    </tr>\n",
       "    <tr>\n",
       "      <th>4</th>\n",
       "      <td>5</td>\n",
       "      <td>2017</td>\n",
       "      <td>Bangalore</td>\n",
       "      <td>2017-04-08</td>\n",
       "      <td>Royal Challengers Bangalore</td>\n",
       "      <td>Delhi Daredevils</td>\n",
       "      <td>Royal Challengers Bangalore</td>\n",
       "      <td>bat</td>\n",
       "      <td>normal</td>\n",
       "      <td>0</td>\n",
       "      <td>Royal Challengers Bangalore</td>\n",
       "      <td>15</td>\n",
       "      <td>0</td>\n",
       "      <td>KM Jadhav</td>\n",
       "      <td>M Chinnaswamy Stadium</td>\n",
       "      <td>NaN</td>\n",
       "      <td>NaN</td>\n",
       "      <td>NaN</td>\n",
       "    </tr>\n",
       "    <tr>\n",
       "      <th>5</th>\n",
       "      <td>6</td>\n",
       "      <td>2017</td>\n",
       "      <td>Hyderabad</td>\n",
       "      <td>2017-04-09</td>\n",
       "      <td>Gujarat Lions</td>\n",
       "      <td>Sunrisers Hyderabad</td>\n",
       "      <td>Sunrisers Hyderabad</td>\n",
       "      <td>field</td>\n",
       "      <td>normal</td>\n",
       "      <td>0</td>\n",
       "      <td>Sunrisers Hyderabad</td>\n",
       "      <td>0</td>\n",
       "      <td>9</td>\n",
       "      <td>Rashid Khan</td>\n",
       "      <td>Rajiv Gandhi International Stadium, Uppal</td>\n",
       "      <td>A Deshmukh</td>\n",
       "      <td>NJ Llong</td>\n",
       "      <td>NaN</td>\n",
       "    </tr>\n",
       "    <tr>\n",
       "      <th>6</th>\n",
       "      <td>7</td>\n",
       "      <td>2017</td>\n",
       "      <td>Mumbai</td>\n",
       "      <td>2017-04-09</td>\n",
       "      <td>Kolkata Knight Riders</td>\n",
       "      <td>Mumbai Indians</td>\n",
       "      <td>Mumbai Indians</td>\n",
       "      <td>field</td>\n",
       "      <td>normal</td>\n",
       "      <td>0</td>\n",
       "      <td>Mumbai Indians</td>\n",
       "      <td>0</td>\n",
       "      <td>4</td>\n",
       "      <td>N Rana</td>\n",
       "      <td>Wankhede Stadium</td>\n",
       "      <td>Nitin Menon</td>\n",
       "      <td>CK Nandan</td>\n",
       "      <td>NaN</td>\n",
       "    </tr>\n",
       "    <tr>\n",
       "      <th>7</th>\n",
       "      <td>8</td>\n",
       "      <td>2017</td>\n",
       "      <td>Indore</td>\n",
       "      <td>2017-04-10</td>\n",
       "      <td>Royal Challengers Bangalore</td>\n",
       "      <td>Kings XI Punjab</td>\n",
       "      <td>Royal Challengers Bangalore</td>\n",
       "      <td>bat</td>\n",
       "      <td>normal</td>\n",
       "      <td>0</td>\n",
       "      <td>Kings XI Punjab</td>\n",
       "      <td>0</td>\n",
       "      <td>8</td>\n",
       "      <td>AR Patel</td>\n",
       "      <td>Holkar Cricket Stadium</td>\n",
       "      <td>AK Chaudhary</td>\n",
       "      <td>C Shamshuddin</td>\n",
       "      <td>NaN</td>\n",
       "    </tr>\n",
       "    <tr>\n",
       "      <th>8</th>\n",
       "      <td>9</td>\n",
       "      <td>2017</td>\n",
       "      <td>Pune</td>\n",
       "      <td>2017-04-11</td>\n",
       "      <td>Delhi Daredevils</td>\n",
       "      <td>Rising Pune Supergiant</td>\n",
       "      <td>Rising Pune Supergiant</td>\n",
       "      <td>field</td>\n",
       "      <td>normal</td>\n",
       "      <td>0</td>\n",
       "      <td>Delhi Daredevils</td>\n",
       "      <td>97</td>\n",
       "      <td>0</td>\n",
       "      <td>SV Samson</td>\n",
       "      <td>Maharashtra Cricket Association Stadium</td>\n",
       "      <td>AY Dandekar</td>\n",
       "      <td>S Ravi</td>\n",
       "      <td>NaN</td>\n",
       "    </tr>\n",
       "    <tr>\n",
       "      <th>9</th>\n",
       "      <td>10</td>\n",
       "      <td>2017</td>\n",
       "      <td>Mumbai</td>\n",
       "      <td>2017-04-12</td>\n",
       "      <td>Sunrisers Hyderabad</td>\n",
       "      <td>Mumbai Indians</td>\n",
       "      <td>Mumbai Indians</td>\n",
       "      <td>field</td>\n",
       "      <td>normal</td>\n",
       "      <td>0</td>\n",
       "      <td>Mumbai Indians</td>\n",
       "      <td>0</td>\n",
       "      <td>4</td>\n",
       "      <td>JJ Bumrah</td>\n",
       "      <td>Wankhede Stadium</td>\n",
       "      <td>Nitin Menon</td>\n",
       "      <td>CK Nandan</td>\n",
       "      <td>NaN</td>\n",
       "    </tr>\n",
       "  </tbody>\n",
       "</table>\n",
       "</div>"
      ],
      "text/plain": [
       "   id  season       city        date                        team1  \\\n",
       "0   1    2017  Hyderabad  2017-04-05          Sunrisers Hyderabad   \n",
       "1   2    2017       Pune  2017-04-06               Mumbai Indians   \n",
       "2   3    2017     Rajkot  2017-04-07                Gujarat Lions   \n",
       "3   4    2017     Indore  2017-04-08       Rising Pune Supergiant   \n",
       "4   5    2017  Bangalore  2017-04-08  Royal Challengers Bangalore   \n",
       "5   6    2017  Hyderabad  2017-04-09                Gujarat Lions   \n",
       "6   7    2017     Mumbai  2017-04-09        Kolkata Knight Riders   \n",
       "7   8    2017     Indore  2017-04-10  Royal Challengers Bangalore   \n",
       "8   9    2017       Pune  2017-04-11             Delhi Daredevils   \n",
       "9  10    2017     Mumbai  2017-04-12          Sunrisers Hyderabad   \n",
       "\n",
       "                         team2                  toss_winner toss_decision  \\\n",
       "0  Royal Challengers Bangalore  Royal Challengers Bangalore         field   \n",
       "1       Rising Pune Supergiant       Rising Pune Supergiant         field   \n",
       "2        Kolkata Knight Riders        Kolkata Knight Riders         field   \n",
       "3              Kings XI Punjab              Kings XI Punjab         field   \n",
       "4             Delhi Daredevils  Royal Challengers Bangalore           bat   \n",
       "5          Sunrisers Hyderabad          Sunrisers Hyderabad         field   \n",
       "6               Mumbai Indians               Mumbai Indians         field   \n",
       "7              Kings XI Punjab  Royal Challengers Bangalore           bat   \n",
       "8       Rising Pune Supergiant       Rising Pune Supergiant         field   \n",
       "9               Mumbai Indians               Mumbai Indians         field   \n",
       "\n",
       "   result  dl_applied                       winner  win_by_runs  \\\n",
       "0  normal           0          Sunrisers Hyderabad           35   \n",
       "1  normal           0       Rising Pune Supergiant            0   \n",
       "2  normal           0        Kolkata Knight Riders            0   \n",
       "3  normal           0              Kings XI Punjab            0   \n",
       "4  normal           0  Royal Challengers Bangalore           15   \n",
       "5  normal           0          Sunrisers Hyderabad            0   \n",
       "6  normal           0               Mumbai Indians            0   \n",
       "7  normal           0              Kings XI Punjab            0   \n",
       "8  normal           0             Delhi Daredevils           97   \n",
       "9  normal           0               Mumbai Indians            0   \n",
       "\n",
       "   win_by_wickets player_of_match                                      venue  \\\n",
       "0               0    Yuvraj Singh  Rajiv Gandhi International Stadium, Uppal   \n",
       "1               7       SPD Smith    Maharashtra Cricket Association Stadium   \n",
       "2              10         CA Lynn     Saurashtra Cricket Association Stadium   \n",
       "3               6      GJ Maxwell                     Holkar Cricket Stadium   \n",
       "4               0       KM Jadhav                      M Chinnaswamy Stadium   \n",
       "5               9     Rashid Khan  Rajiv Gandhi International Stadium, Uppal   \n",
       "6               4          N Rana                           Wankhede Stadium   \n",
       "7               8        AR Patel                     Holkar Cricket Stadium   \n",
       "8               0       SV Samson    Maharashtra Cricket Association Stadium   \n",
       "9               4       JJ Bumrah                           Wankhede Stadium   \n",
       "\n",
       "          umpire1        umpire2  umpire3  \n",
       "0     AY Dandekar       NJ Llong      NaN  \n",
       "1  A Nand Kishore         S Ravi      NaN  \n",
       "2     Nitin Menon      CK Nandan      NaN  \n",
       "3    AK Chaudhary  C Shamshuddin      NaN  \n",
       "4             NaN            NaN      NaN  \n",
       "5      A Deshmukh       NJ Llong      NaN  \n",
       "6     Nitin Menon      CK Nandan      NaN  \n",
       "7    AK Chaudhary  C Shamshuddin      NaN  \n",
       "8     AY Dandekar         S Ravi      NaN  \n",
       "9     Nitin Menon      CK Nandan      NaN  "
      ]
     },
     "execution_count": 6,
     "metadata": {},
     "output_type": "execute_result"
    }
   ],
   "source": [
    "df2.head(10)   # First 10 items of file 2"
   ]
  },
  {
   "cell_type": "code",
   "execution_count": 7,
   "id": "f9e1c2e1",
   "metadata": {
    "id": "f9e1c2e1"
   },
   "outputs": [],
   "source": [
    "# Check for NULL values and Replace Nan with 0 (For both files)\n"
   ]
  },
  {
   "cell_type": "code",
   "execution_count": 8,
   "id": "W1IssYcGm2uz",
   "metadata": {
    "colab": {
     "base_uri": "https://localhost:8080/"
    },
    "id": "W1IssYcGm2uz",
    "outputId": "11fbf14c-dc26-40b0-e32a-63a7f0a67e58"
   },
   "outputs": [
    {
     "data": {
      "text/plain": [
       "match_id                 0\n",
       "inning                   0\n",
       "batting_team             0\n",
       "bowling_team             0\n",
       "over                     0\n",
       "ball                     0\n",
       "batsman                  0\n",
       "non_striker              0\n",
       "bowler                   0\n",
       "is_super_over            0\n",
       "wide_runs                0\n",
       "bye_runs                 0\n",
       "legbye_runs              0\n",
       "noball_runs              0\n",
       "penalty_runs             0\n",
       "batsman_runs             0\n",
       "extra_runs               0\n",
       "total_runs               0\n",
       "player_dismissed    143022\n",
       "dismissal_kind      143022\n",
       "fielder             145091\n",
       "dtype: int64"
      ]
     },
     "execution_count": 8,
     "metadata": {},
     "output_type": "execute_result"
    }
   ],
   "source": [
    "df1.isnull().sum()  # Displaying count of null values in dataset 1"
   ]
  },
  {
   "cell_type": "markdown",
   "id": "Pkm7dTPDnUt9",
   "metadata": {
    "id": "Pkm7dTPDnUt9"
   },
   "source": [
    "1. There are 143022 null values in columns \"player_dismissed\" and \"dismissal_kind\". \n",
    "2. There are 145091 null values in column \"fielder\"."
   ]
  },
  {
   "cell_type": "code",
   "execution_count": 9,
   "id": "k6Oj60YyorjM",
   "metadata": {
    "colab": {
     "base_uri": "https://localhost:8080/"
    },
    "id": "k6Oj60YyorjM",
    "outputId": "f1cb337a-63bc-4967-e2e7-fd544dbbdf71"
   },
   "outputs": [
    {
     "data": {
      "text/plain": [
       "id                   0\n",
       "season               0\n",
       "city                 7\n",
       "date                 0\n",
       "team1                0\n",
       "team2                0\n",
       "toss_winner          0\n",
       "toss_decision        0\n",
       "result               0\n",
       "dl_applied           0\n",
       "winner               3\n",
       "win_by_runs          0\n",
       "win_by_wickets       0\n",
       "player_of_match      3\n",
       "venue                0\n",
       "umpire1              1\n",
       "umpire2              1\n",
       "umpire3            636\n",
       "dtype: int64"
      ]
     },
     "execution_count": 9,
     "metadata": {},
     "output_type": "execute_result"
    }
   ],
   "source": [
    "df2.isnull().sum()  # Displaying count of null values in dataset 2"
   ]
  },
  {
   "cell_type": "markdown",
   "id": "wt1CLjD4ox2Y",
   "metadata": {
    "id": "wt1CLjD4ox2Y"
   },
   "source": [
    "There are 7 missing values in \"city\", 3 missing values in \"winner\", 3 missing values in \"player_of_match\", 1 missing value in \"umpire1\", 1 missing value in \"umpire2\" and 636 missing value in \"umpire3\" in dataset 2."
   ]
  },
  {
   "cell_type": "code",
   "execution_count": 10,
   "id": "XzE3JeHzm1sJ",
   "metadata": {
    "id": "XzE3JeHzm1sJ"
   },
   "outputs": [],
   "source": [
    "# Replacing null value with 0\n",
    "df1['dismissal_kind'] = df1['dismissal_kind'].fillna(0)\n",
    "df1['player_dismissed'] = df1['player_dismissed'].fillna(0)\n",
    "df1['fielder'] = df1['fielder'].fillna(0)\n",
    "\n",
    "df2[\"city\"] = df2[\"city\"].fillna(0)\n",
    "df2[\"winner\"] = df2[\"winner\"].fillna(0)\n",
    "df2[\"player_of_match\"] = df2[\"player_of_match\"].fillna(0)\n",
    "df2[\"umpire1\"] = df2[\"umpire1\"].fillna(0)\n",
    "df2[\"umpire2\"] = df2[\"umpire2\"].fillna(0)\n",
    "df2[\"umpire3\"] = df2[\"umpire3\"].fillna(0)"
   ]
  },
  {
   "cell_type": "code",
   "execution_count": 11,
   "id": "Eyms0bpwpm95",
   "metadata": {
    "colab": {
     "base_uri": "https://localhost:8080/"
    },
    "id": "Eyms0bpwpm95",
    "outputId": "aa5a87bb-e11b-470e-d550-f4ad85055070"
   },
   "outputs": [
    {
     "data": {
      "text/plain": [
       "match_id            0\n",
       "inning              0\n",
       "batting_team        0\n",
       "bowling_team        0\n",
       "over                0\n",
       "ball                0\n",
       "batsman             0\n",
       "non_striker         0\n",
       "bowler              0\n",
       "is_super_over       0\n",
       "wide_runs           0\n",
       "bye_runs            0\n",
       "legbye_runs         0\n",
       "noball_runs         0\n",
       "penalty_runs        0\n",
       "batsman_runs        0\n",
       "extra_runs          0\n",
       "total_runs          0\n",
       "player_dismissed    0\n",
       "dismissal_kind      0\n",
       "fielder             0\n",
       "dtype: int64"
      ]
     },
     "execution_count": 11,
     "metadata": {},
     "output_type": "execute_result"
    }
   ],
   "source": [
    "df1.isnull().sum()  # checking null value after replacing Nan with 0"
   ]
  },
  {
   "cell_type": "code",
   "execution_count": 12,
   "id": "WwfSyJNdm1h7",
   "metadata": {
    "colab": {
     "base_uri": "https://localhost:8080/"
    },
    "id": "WwfSyJNdm1h7",
    "outputId": "fb58d441-88bd-4534-dcae-eb24eae75e2e"
   },
   "outputs": [
    {
     "data": {
      "text/plain": [
       "id                 0\n",
       "season             0\n",
       "city               0\n",
       "date               0\n",
       "team1              0\n",
       "team2              0\n",
       "toss_winner        0\n",
       "toss_decision      0\n",
       "result             0\n",
       "dl_applied         0\n",
       "winner             0\n",
       "win_by_runs        0\n",
       "win_by_wickets     0\n",
       "player_of_match    0\n",
       "venue              0\n",
       "umpire1            0\n",
       "umpire2            0\n",
       "umpire3            0\n",
       "dtype: int64"
      ]
     },
     "execution_count": 12,
     "metadata": {},
     "output_type": "execute_result"
    }
   ],
   "source": [
    "df2.isnull().sum()  # checking null value after replacing Nan with 0"
   ]
  },
  {
   "cell_type": "code",
   "execution_count": 13,
   "id": "422d4aad",
   "metadata": {
    "id": "422d4aad"
   },
   "outputs": [],
   "source": [
    "#Display an overview - The participating teams and the unique venues used for matches, and the number of matches played "
   ]
  },
  {
   "cell_type": "code",
   "execution_count": 14,
   "id": "7868cff9",
   "metadata": {
    "colab": {
     "base_uri": "https://localhost:8080/"
    },
    "id": "7868cff9",
    "outputId": "9a6854ed-a32c-4ec1-c5a8-2ca2a48e7d7a"
   },
   "outputs": [
    {
     "data": {
      "text/plain": [
       "array(['Sunrisers Hyderabad', 'Mumbai Indians', 'Gujarat Lions',\n",
       "       'Rising Pune Supergiant', 'Royal Challengers Bangalore',\n",
       "       'Kolkata Knight Riders', 'Delhi Daredevils', 'Kings XI Punjab',\n",
       "       'Chennai Super Kings', 'Rajasthan Royals', 'Deccan Chargers',\n",
       "       'Kochi Tuskers Kerala', 'Pune Warriors', 'Rising Pune Supergiants'],\n",
       "      dtype=object)"
      ]
     },
     "execution_count": 14,
     "metadata": {},
     "output_type": "execute_result"
    }
   ],
   "source": [
    "df2['team1'].unique()  # Displaying participating teams"
   ]
  },
  {
   "cell_type": "code",
   "execution_count": 15,
   "id": "CGvhgZtGrkGX",
   "metadata": {
    "colab": {
     "base_uri": "https://localhost:8080/"
    },
    "id": "CGvhgZtGrkGX",
    "outputId": "a728d1cf-9b7c-4ef3-cecf-b9396c8080c6"
   },
   "outputs": [
    {
     "data": {
      "text/plain": [
       "array(['Royal Challengers Bangalore', 'Rising Pune Supergiant',\n",
       "       'Kolkata Knight Riders', 'Kings XI Punjab', 'Delhi Daredevils',\n",
       "       'Sunrisers Hyderabad', 'Mumbai Indians', 'Gujarat Lions',\n",
       "       'Rajasthan Royals', 'Chennai Super Kings', 'Deccan Chargers',\n",
       "       'Pune Warriors', 'Kochi Tuskers Kerala', 'Rising Pune Supergiants'],\n",
       "      dtype=object)"
      ]
     },
     "execution_count": 15,
     "metadata": {},
     "output_type": "execute_result"
    }
   ],
   "source": [
    "df2['team2'].unique()"
   ]
  },
  {
   "cell_type": "markdown",
   "id": "QRRN_9ypvDkJ",
   "metadata": {
    "id": "QRRN_9ypvDkJ"
   },
   "source": [
    "In both datasets, 'Rising Pune Supergiant' & 'Rising Pune Supergiants' are duplicate entries (with slight difference in name) for same team."
   ]
  },
  {
   "cell_type": "code",
   "execution_count": 16,
   "id": "jQAHbOUDrke_",
   "metadata": {
    "id": "jQAHbOUDrke_"
   },
   "outputs": [],
   "source": [
    "# Replacing 'Rising Pune Supergiants' by 'Rising Pune Supergiant'\n",
    "df1.replace('Rising Pune Supergiants', 'Rising Pune Supergiant', inplace=True)\n",
    "df2.replace('Rising Pune Supergiants', 'Rising Pune Supergiant', inplace=True)"
   ]
  },
  {
   "cell_type": "code",
   "execution_count": 17,
   "id": "A5ERzReQvUzF",
   "metadata": {
    "id": "A5ERzReQvUzF"
   },
   "outputs": [],
   "source": [
    "teams = df1[\"batting_team\"].unique()\n",
    "venues = df2[\"venue\"].unique()\n",
    "matches = len(df2[\"id\"])"
   ]
  },
  {
   "cell_type": "code",
   "execution_count": 18,
   "id": "OzoOJYwsyoFU",
   "metadata": {
    "colab": {
     "base_uri": "https://localhost:8080/"
    },
    "id": "OzoOJYwsyoFU",
    "outputId": "c00d24db-9cd6-456e-fbcb-431c92e6f77c"
   },
   "outputs": [
    {
     "name": "stdout",
     "output_type": "stream",
     "text": [
      "There are 13 teams: ['Sunrisers Hyderabad' 'Royal Challengers Bangalore' 'Mumbai Indians'\n",
      " 'Rising Pune Supergiant' 'Gujarat Lions' 'Kolkata Knight Riders'\n",
      " 'Kings XI Punjab' 'Delhi Daredevils' 'Chennai Super Kings'\n",
      " 'Rajasthan Royals' 'Deccan Chargers' 'Kochi Tuskers Kerala'\n",
      " 'Pune Warriors']\n",
      "\n",
      "There are 35 venues: ['Rajiv Gandhi International Stadium, Uppal'\n",
      " 'Maharashtra Cricket Association Stadium'\n",
      " 'Saurashtra Cricket Association Stadium' 'Holkar Cricket Stadium'\n",
      " 'M Chinnaswamy Stadium' 'Wankhede Stadium' 'Eden Gardens'\n",
      " 'Feroz Shah Kotla' 'Punjab Cricket Association IS Bindra Stadium, Mohali'\n",
      " 'Green Park' 'Punjab Cricket Association Stadium, Mohali'\n",
      " 'Sawai Mansingh Stadium' 'MA Chidambaram Stadium, Chepauk'\n",
      " 'Dr DY Patil Sports Academy' 'Newlands' \"St George's Park\" 'Kingsmead'\n",
      " 'SuperSport Park' 'Buffalo Park' 'New Wanderers Stadium'\n",
      " 'De Beers Diamond Oval' 'OUTsurance Oval' 'Brabourne Stadium'\n",
      " 'Sardar Patel Stadium, Motera' 'Barabati Stadium'\n",
      " 'Vidarbha Cricket Association Stadium, Jamtha'\n",
      " 'Himachal Pradesh Cricket Association Stadium' 'Nehru Stadium'\n",
      " 'Dr. Y.S. Rajasekhara Reddy ACA-VDCA Cricket Stadium'\n",
      " 'Subrata Roy Sahara Stadium'\n",
      " 'Shaheed Veer Narayan Singh International Stadium'\n",
      " 'JSCA International Stadium Complex' 'Sheikh Zayed Stadium'\n",
      " 'Sharjah Cricket Stadium' 'Dubai International Cricket Stadium']\n",
      "\n",
      "No. of matches played: 636\n"
     ]
    }
   ],
   "source": [
    "# Summary of Teams, Venue & Matches played:\n",
    "print(f'There are {len(teams)} teams: {teams}')\n",
    "print(f'\\nThere are {len(venues)} venues: {venues}')\n",
    "print(f'\\nNo. of matches played: {matches}')"
   ]
  },
  {
   "cell_type": "code",
   "execution_count": 19,
   "id": "NIlSW1iszYGB",
   "metadata": {
    "colab": {
     "base_uri": "https://localhost:8080/",
     "height": 624
    },
    "id": "NIlSW1iszYGB",
    "outputId": "f68a7e8d-815d-4dd6-ca9a-afa3ad3c3318"
   },
   "outputs": [
    {
     "data": {
      "image/png": "[encoded data removed]",
      "text/plain": [
       "<Figure size 1080x720 with 1 Axes>"
      ]
     },
     "metadata": {
      "needs_background": "light"
     },
     "output_type": "display_data"
    }
   ],
   "source": [
    "# Displaying number of matches played in each Stadiums\n",
    "fig, ax = plt.subplots(figsize=(15,10))\n",
    "stadium = sns.countplot(data=df2, y=df2[\"venue\"], order=df2[\"venue\"].value_counts().index, palette=\"rocket\")  # Countplot to show no. of matches played in the stadium\n",
    "# show lable of bar\n",
    "for i in stadium.containers:\n",
    "  stadium.bar_label(i, )\n",
    "plt.title(\"Number of matches played in the stadium\", fontsize=16, loc='left')   # Title of plot\n",
    "plt.xlabel(\"No. of matches\", fontsize=14)  # x-axis label of plot\n",
    "plt.ylabel(\"Venue\", fontsize=14)      # y-axis label of plot\n",
    "ax.spines['right'].set_color('None')  # Removing right border\n",
    "ax.spines['top'].set_color('None')    # Removing top border\n",
    "ax.spines['bottom'].set_color('None') # Removing bottom border\n",
    "ax.get_xaxis().set_visible(False)     # Hiding x-axis\n",
    "plt.show()"
   ]
  },
  {
   "cell_type": "markdown",
   "id": "6f4e4cbd",
   "metadata": {},
   "source": [
    "1. More than 50 matches played in stadiums M chinnaswamy stadium, Eden gardens, Feroz shah kotla, Wankhede stadium\n",
    "2. Gradient color used to show no. of matches played in the stadium in descending order"
   ]
  },
  {
   "cell_type": "markdown",
   "id": "d244a6b1",
   "metadata": {
    "id": "d244a6b1"
   },
   "source": [
    "# Visualisation Questions - 2 X 5 = 10 Marks"
   ]
  },
  {
   "cell_type": "markdown",
   "id": "ca7120b0",
   "metadata": {
    "id": "ca7120b0"
   },
   "source": [
    "### Question 1\n",
    "<h4>Identify the top 10 batsmen of all time by considering how does these players score runs.  <br><br>\n",
    "    Write the python code in the below cell to create appropriate visual to perform the above task.\n",
    "    <h4>Answer in markdown cells below the visual <br><br>\n",
    "        1.Summarise your findings from the visual.<br>\n",
    "            2.The reason for selecting the chart type you did <br>\n",
    "                3.Mention the pre-attentive attributes used.(atleast 2)<br>\n",
    "                    4.Mention the gestalt principles used.(atleast 2)<br>"
   ]
  },
  {
   "cell_type": "code",
   "execution_count": 20,
   "id": "687e88f4",
   "metadata": {
    "colab": {
     "base_uri": "https://localhost:8080/",
     "height": 369
    },
    "id": "687e88f4",
    "outputId": "53fd671f-809d-4907-f7ec-03b2931d80ea"
   },
   "outputs": [
    {
     "data": {
      "image/png": "[encoded data removed]",
      "text/plain": [
       "<Figure size 576x288 with 1 Axes>"
      ]
     },
     "metadata": {
      "needs_background": "light"
     },
     "output_type": "display_data"
    }
   ],
   "source": [
    "fig,ax = plt.subplots(figsize=(8,4))  # set figure size\n",
    "runs = df1.groupby([\"batsman\"])[\"batsman_runs\"].sum().reset_index()  # Aggregating Runs of batsmen\n",
    "runs.columns=['Batsman', 'Runs']    # column naming\n",
    "runs = runs.sort_values(by='Runs', ascending=False).head(10).reset_index().drop('index', axis=1)  # Sorting based on runs\n",
    "\n",
    "# Giving color to bars based on maximum runs\n",
    "max_run = max(runs[\"Runs\"])\n",
    "clrs = ['blue' if (run==max_run) else 'grey' for run in runs[\"Runs\"].values]\n",
    "bar_runs = sns.barplot(data=runs, y=runs[\"Batsman\"], x=runs[\"Runs\"], palette=clrs)\n",
    "# show bar labels\n",
    "for i in bar_runs.containers:\n",
    "  bar_runs.bar_label(i, )\n",
    "plt.title(\"Top 10 batsmen of all time as per runs scored\", fontsize=16, loc='left')  # title of plot\n",
    "#plt.xlabel('Total runs', fontsize=14) \n",
    "plt.ylabel('Batsmen', fontsize=14)    # y-axis label of plot\n",
    "ax.spines['right'].set_color('None')  # Removing right border\n",
    "ax.spines['top'].set_color('None')    # Removing top border\n",
    "ax.spines['bottom'].set_color('None') # Removing bottom border\n",
    "ax.get_xaxis().set_visible(False)     # Hiding x-axis\n",
    "plt.show()"
   ]
  },
  {
   "cell_type": "markdown",
   "id": "FxA8vTqwFG-6",
   "metadata": {
    "id": "FxA8vTqwFG-6"
   },
   "source": [
    "**Observations:**\n",
    "1. Top 10 batsmen scored more than 3000 runs (individually).\n",
    "2. Among these players, SK Raina has scored most runs (4548).\n",
    "3. Among Top 10 batsmen, 7 are Indian batsmen.\n",
    "\n",
    "**Bar chart** is selected as we have one categorical variable (Batsmen) and another one is numerical variable (Runs). Also, Bar chart is better to show the ranking.\n",
    "\n",
    "**Pre-attentive attributes used:**\n",
    "1. Color : Blue color to show top Batsman and Grey color to show remaining top 9 batsmen.\n",
    "2. Text : Runs labelled directly over bar to reduce cognitive load\n",
    "\n",
    "**Gestalt principles used:**\n",
    "1. Gestalt law of Similarity : Objects with similar color are perceived as a group. Top 10 Batsmen are colored in grey except SK Raina (Top most run scorer) as they form one group.\n",
    "2. Gestalt law of Continuity : Things aligned with each other in some order. Bars plotted in descending order as per runs scored  by the Batsmen to reflect ranking among them.\n",
    "3. Gestalt law of Focal point : Distinct object creates a focal point. Top most batsman shown in blue color (remaining batsmen in grey color) which is the point of focus."
   ]
  },
  {
   "cell_type": "markdown",
   "id": "e03789d1",
   "metadata": {
    "id": "e03789d1"
   },
   "source": [
    "### Question 2\n",
    "<h4>The general notion in cricket is, Win the toss to win the match . To verify the general notion, perform a match winning analysis based on the toss winners.<br>\n",
    "    \n",
    "Write the python code in the below cell to create the appropriate visual to perform the above task .\n",
    "<h4>Answer in markdown cells below the visual <br><br>\n",
    "    1.Summarise your findings from the visual.<br>\n",
    "    2.The reason for selecting the chart type you did <br>\n",
    "    3.Mention the pre-attentive attributes used.(atleast 2)<br>\n",
    "    4.Mention the gestalt principles used.(atleast 2)<br>"
   ]
  },
  {
   "cell_type": "code",
   "execution_count": 21,
   "id": "uzWK9ufq6269",
   "metadata": {
    "colab": {
     "base_uri": "https://localhost:8080/",
     "height": 479
    },
    "id": "uzWK9ufq6269",
    "outputId": "b514f2c1-12ef-4489-cfd7-ff1874b35b61"
   },
   "outputs": [
    {
     "data": {
      "image/png": "[encoded data removed]",
      "text/plain": [
       "<Figure size 432x288 with 1 Axes>"
      ]
     },
     "metadata": {
      "needs_background": "light"
     },
     "output_type": "display_data"
    }
   ],
   "source": [
    "# Creating a feature \"toss_win_match_win\"\n",
    "df2[\"toss_win_match_win\"] = np.where((df2[\"toss_winner\"]==df2[\"winner\"]), \"Yes\", \"No\")\n",
    "\n",
    "fig,ax = plt.subplots()\n",
    "counts = sns.countplot(data=df2, x=df2[\"toss_win_match_win\"])   # Plot countplot\n",
    "# show bar labels\n",
    "for i in counts.containers:\n",
    "  counts.bar_label(i, )\n",
    "plt.title(\"Toss winning and Match winning relationship\", fontsize=16, loc='left')   # title of plot\n",
    "plt.xlabel('Toss win Match win (Yes/No)', fontsize=14)  # x-axis label of plot\n",
    "plt.ylabel('Count', fontsize=14)      # y-axis label of plot\n",
    "ax.spines['right'].set_color('None')  # Removing right border\n",
    "ax.spines['top'].set_color('None')    # Removing top border\n",
    "ax.spines['left'].set_color('None')   # Removing left border\n",
    "ax.get_yaxis().set_visible(False)     # Hiding y-axis\n",
    "plt.show()"
   ]
  },
  {
   "cell_type": "markdown",
   "id": "KTcBD_LuuWwk",
   "metadata": {
    "id": "KTcBD_LuuWwk"
   },
   "source": [
    "**Observations:**\n",
    "1. 325 matches won by Toss winning team and 311 matches won by the team who lost toss.\n",
    "2. It signifies that there is no correlation between Toss winning and match winning.\n",
    "\n",
    "**Bar chart** is selected as we have one categorical variable (Toss win/loss) and another one is numerical variable (No. of matches). It's simple to compare two categories.\n",
    "\n",
    "**Pre-attentive attributes used:**\n",
    "1. Color : Orange color to show Toss winning with match winning and Blue color to show Toss lost with match winning. Change in color as per data-ink ratio.\n",
    "2. Text : Match count directly over bar to reduce cognitive load\n",
    "\n",
    "**Gestalt principles used:**\n",
    "1. Gestalt law of Similarity : Objects with similar sizes are perceived as a group. Both bars are reflecting relation between Toss winning and match winning.\n",
    "2. Gestalt law of Figure/ground : Foreground objects are important. Background objects are less important. Bars are shown in foreground and remaining objects like grid/border, etc. are hidden in background as they do not provide additional information.\n",
    "3. Gestalt law of Pragnanz (Simplicity) : Simpler things are grasped easily than the complex ones. Two bars with number and text are easier to understand."
   ]
  },
  {
   "cell_type": "markdown",
   "id": "044211b4",
   "metadata": {
    "id": "044211b4"
   },
   "source": [
    "### Question 3\n",
    "<h4>Are T20 formats batsmen friendly? To identify this, Do an analysis to find out the average runs scored per match across the seasons. <br>\n",
    "\n",
    "Write the python code in the below cell to create the appropriate visual to perform the above task .\n",
    "<h4>Answer in markdown cells below the visual <br><br>\n",
    "    1.Summarise your findings from the visual.<br>\n",
    "    2.The reason for selecting the chart type you did <br>\n",
    "    3.Mention the pre-attentive attributes used.(atleast 2)<br>\n",
    "    4.Mention the gestalt principles used.(atleast 2)<br>"
   ]
  },
  {
   "cell_type": "code",
   "execution_count": 22,
   "id": "Yu2I7uch9aUu",
   "metadata": {
    "colab": {
     "base_uri": "https://localhost:8080/",
     "height": 417
    },
    "id": "Yu2I7uch9aUu",
    "outputId": "deb71aea-f305-47a8-852f-7ea709d09627"
   },
   "outputs": [
    {
     "data": {
      "image/png": "[encoded data removed]",
      "text/plain": [
       "<Figure size 576x288 with 1 Axes>"
      ]
     },
     "metadata": {
      "needs_background": "light"
     },
     "output_type": "display_data"
    }
   ],
   "source": [
    "match_per_season = df2.groupby(['season'])['id'].count().reset_index().rename(columns={'id': 'matches'})   # Finding matches per season\n",
    "season_df = df2[['id', 'season']].merge(df1, left_on='id', right_on='match_id', how='left'). drop('id', axis=1)  # Merging dataframe 1 & dataframe 2 to get runs per season\n",
    "season = season_df.groupby('season')['total_runs'].sum().reset_index()      # Finding runs per season\n",
    "runs_per_season = pd.concat([match_per_season, season.iloc[:, 1]], axis=1)  # concatenate two series/dataframe\n",
    "runs_per_season['Runs scored per match'] = runs_per_season['total_runs']/runs_per_season['matches']   # Finding avg. runs per match across the seasons\n",
    "runs_per_season.reset_index()\n",
    "\n",
    "fig, ax = plt.subplots(figsize=(8, 4))   # set figure size\n",
    "sns.lineplot(data=runs_per_season, x=runs_per_season['season'], y=runs_per_season['Runs scored per match'], linestyle='dashed')   # Line plot\n",
    "sns.regplot(data=runs_per_season, x=runs_per_season['season'], y=runs_per_season['Runs scored per match'], color='grey', ci=False)  # Adding trend line\n",
    "plt.title(\"Average runs scored per match across the seasons\", fontsize=16, loc='left')  # title of plot\n",
    "plt.xlabel('Season', fontsize=14)  # x-axis label of plot\n",
    "plt.ylabel('Runs', fontsize=14)    # y-axis label of plot\n",
    "plt.ylim(0,400)                    # set y-axis limit\n",
    "ax.spines['right'].set_color('None')  # Removing right border\n",
    "ax.spines['top'].set_color('None')    # Removing top border\n",
    "plt.show()"
   ]
  },
  {
   "cell_type": "markdown",
   "id": "f4sCfCxpJPQZ",
   "metadata": {
    "id": "f4sCfCxpJPQZ"
   },
   "source": [
    "**Observations:**\n",
    "\n",
    "1. Average runs scored per match is linearly increasing (slightly) with season from 2008 to 2016.\n",
    "2. We can say that T20 formats are batsmen friendly.\n",
    "\n",
    "**Line graph** is selected as this is a time series data. Season in years along x-axis and average runs scored per match along y-axis which is numerical data.\n",
    "\n",
    "**Pre-attentive attributes used:**\n",
    "1. Shape : Trend line has different shape than line plot.\n",
    "2. Line width : Line width is different for line plot and Trend line.\n",
    "\n",
    "**Gestalt principles used:**\n",
    "\n",
    "1. Gestalt law of Figure/ground : Foreground objects are important. Background objects are less important. Line graph is shown in foreground as it give important information. Grid/border, etc. are hidden as they don't provide any additional information.\n",
    "2. Gestalt law of Pragnanz (Simplicity) : Simpler things are grasped easily than the complex ones. A simple line graph is plotted for easier understanding of time series data.\n"
   ]
  },
  {
   "cell_type": "markdown",
   "id": "624a5a31",
   "metadata": {
    "id": "624a5a31"
   },
   "source": [
    "### Question 4\n",
    "<h4>Create an interactive visual to identify the most player-of-the-matches award. <br>\n",
    "\n",
    "Write the python code in the below cell to create the appropriate visual to perform the above task .\n",
    "\n",
    "Answer in markdown cells below the visual\n",
    "\n",
    "1.Summarise your findings from the visual.\n",
    "2.The reason for selecting the chart type you did\n",
    "3.Mention the pre-attentive attributes used.(atleast 2)\n",
    "4.Mention the gestalt principles used.(atleast 2"
   ]
  },
  {
   "cell_type": "code",
   "execution_count": 23,
   "id": "jL4vnCs8JyLn",
   "metadata": {
    "colab": {
     "base_uri": "https://localhost:8080/",
     "height": 369
    },
    "id": "jL4vnCs8JyLn",
    "outputId": "9e78fb16-16ed-452b-a3ca-ae5af63ae754"
   },
   "outputs": [
    {
     "data": {
      "image/png": "[encoded data removed]",
      "text/plain": [
       "<Figure size 576x288 with 1 Axes>"
      ]
     },
     "metadata": {
      "needs_background": "light"
     },
     "output_type": "display_data"
    }
   ],
   "source": [
    "fig, ax = plt.subplots(figsize=(8,4))   # set figure size\n",
    "max_award = max(df2['player_of_match'].value_counts()[:10].values)  # top-10 match awardee and top-most awardee \n",
    "clrs = ['blue' if (x==max_award) else 'grey' for x in df2['player_of_match'].value_counts()[:10].values]  # set color for barplot\n",
    "bar_award = sns.barplot(data=df2, y=df2['player_of_match'].value_counts()[:10].index, x=df2['player_of_match'].value_counts()[:10], palette=clrs)  # Barplot to show top 10 awardee\n",
    "# show bar labels\n",
    "for i in bar_award.containers:\n",
    "  bar_award.bar_label(i, )\n",
    "plt.title(\"Top 10 player-of-the-matches awardee\", fontsize=16, loc='left')  # title of plot\n",
    "plt.xlabel('Player of the match count', fontsize=14)   # x-axis label of plot\n",
    "plt.ylabel('Player name', fontsize=14) # y-axis label of plot\n",
    "ax.spines['right'].set_color('None')  # Removing right border\n",
    "ax.spines['top'].set_color('None')    # Removing top border\n",
    "ax.spines['bottom'].set_color('None') # Removing bottom border\n",
    "ax.get_xaxis().set_visible(False)     # Hiding x-axis\n",
    "plt.show()"
   ]
  },
  {
   "cell_type": "markdown",
   "id": "ovNLmuuJueWn",
   "metadata": {
    "id": "ovNLmuuJueWn"
   },
   "source": [
    "**Observations:**\n",
    "1. CH Gayle has earned most player-of-the-matches award (18 times).\n",
    "2. YK Pathan got 16 times and AB de Villiers & DA Warner got 15 times player-of-the-matches award.\n",
    "3. Among top 10, 6 Indian players have received most player-of-the-matches award.\n",
    "\n",
    "**Bar chart** is selected as we have one categorical variable (Batsmen) and another one is numerical variable (Player-of-the-match award count). Also, Bar chart is better to show the ranking.\n",
    "\n",
    "**Pre-attentive attributes used:**\n",
    "1. Color : Blue color to show top most award winning player and Grey color to show remaining top 9 award winning player.\n",
    "2. Text : Award count labelled directly over bar to reduce cognitive load\n",
    "\n",
    "**Gestalt principles used:**\n",
    "1. Gestalt law of Similarity : Objects with similar color are perceived as a group. Top 10 player-of-the-match award winning players are colored in grey except CH Gayle (Top most player-of-the-match award winner) as they form one group.\n",
    "2. Gestalt law of Continuity : Things aligned with each other in some order. Bars plotted in descending order as per Award received by the players to reflect ranking among them.\n",
    "3. Gestalt law of Focal point : Distinct object creates a focal point. Top most award winning player shown in blue color (remaining 9 award winning players are shown in grey color) which is the point of focus."
   ]
  },
  {
   "cell_type": "markdown",
   "id": "7c50e716",
   "metadata": {
    "id": "7c50e716"
   },
   "source": [
    "### Question 5\n",
    "<h4>Prepare a tabular visual to identify teams scoring more than 225 runs.<br>\n",
    "\n",
    "Write the python code in the below cell to create the appropriate visual to perform the above task .\n",
    "<h4>Answer in markdown cells below the visual <br><br>\n",
    "    1.Summarise your findings from the visual.<br>\n",
    "    2.The reason for selecting the chart type you did <br>\n",
    "    3.Mention the pre-attentive attributes used.(atleast 2)<br>\n",
    "    4.Mention the gestalt principles used.(atleast 2)<br>  "
   ]
  },
  {
   "cell_type": "code",
   "execution_count": 24,
   "id": "0Q4ae0FSeygN",
   "metadata": {
    "colab": {
     "base_uri": "https://localhost:8080/",
     "height": 457
    },
    "id": "0Q4ae0FSeygN",
    "outputId": "29486246-6eca-4328-8817-f062671f96ed"
   },
   "outputs": [
    {
     "data": {
      "text/html": [
       "<style type=\"text/css\">\n",
       "#T_7f373_row0_col1 {\n",
       "  background-color: #023858;\n",
       "  color: #f1f1f1;\n",
       "}\n",
       "#T_7f373_row1_col1 {\n",
       "  background-color: #4496c3;\n",
       "  color: #f1f1f1;\n",
       "}\n",
       "#T_7f373_row2_col1 {\n",
       "  background-color: #60a1ca;\n",
       "  color: #f1f1f1;\n",
       "}\n",
       "#T_7f373_row3_col1 {\n",
       "  background-color: #a5bddb;\n",
       "  color: #000000;\n",
       "}\n",
       "#T_7f373_row4_col1 {\n",
       "  background-color: #d2d2e7;\n",
       "  color: #000000;\n",
       "}\n",
       "#T_7f373_row5_col1 {\n",
       "  background-color: #e4e1ef;\n",
       "  color: #000000;\n",
       "}\n",
       "#T_7f373_row6_col1, #T_7f373_row7_col1 {\n",
       "  background-color: #eae6f1;\n",
       "  color: #000000;\n",
       "}\n",
       "#T_7f373_row8_col1 {\n",
       "  background-color: #efe9f3;\n",
       "  color: #000000;\n",
       "}\n",
       "#T_7f373_row9_col1 {\n",
       "  background-color: #fbf4f9;\n",
       "  color: #000000;\n",
       "}\n",
       "#T_7f373_row10_col1, #T_7f373_row11_col1 {\n",
       "  background-color: #fff7fb;\n",
       "  color: #000000;\n",
       "}\n",
       "</style>\n",
       "<table id=\"T_7f373_\">\n",
       "  <thead>\n",
       "    <tr>\n",
       "      <th class=\"blank level0\" >&nbsp;</th>\n",
       "      <th class=\"col_heading level0 col0\" >batting_team</th>\n",
       "      <th class=\"col_heading level0 col1\" >total_runs</th>\n",
       "    </tr>\n",
       "    <tr>\n",
       "      <th class=\"index_name level0\" >match_id</th>\n",
       "      <th class=\"blank col0\" >&nbsp;</th>\n",
       "      <th class=\"blank col1\" >&nbsp;</th>\n",
       "    </tr>\n",
       "  </thead>\n",
       "  <tbody>\n",
       "    <tr>\n",
       "      <th id=\"T_7f373_level0_row0\" class=\"row_heading level0 row0\" >411</th>\n",
       "      <td id=\"T_7f373_row0_col0\" class=\"data row0 col0\" >Royal Challengers Bangalore</td>\n",
       "      <td id=\"T_7f373_row0_col1\" class=\"data row0 col1\" >263</td>\n",
       "    </tr>\n",
       "    <tr>\n",
       "      <th id=\"T_7f373_level0_row1\" class=\"row_heading level0 row1\" >620</th>\n",
       "      <td id=\"T_7f373_row1_col0\" class=\"data row1 col0\" >Royal Challengers Bangalore</td>\n",
       "      <td id=\"T_7f373_row1_col1\" class=\"data row1 col1\" >248</td>\n",
       "    </tr>\n",
       "    <tr>\n",
       "      <th id=\"T_7f373_level0_row2\" class=\"row_heading level0 row2\" >206</th>\n",
       "      <td id=\"T_7f373_row2_col0\" class=\"data row2 col0\" >Chennai Super Kings</td>\n",
       "      <td id=\"T_7f373_row2_col1\" class=\"data row2 col1\" >246</td>\n",
       "    </tr>\n",
       "    <tr>\n",
       "      <th id=\"T_7f373_level0_row3\" class=\"row_heading level0 row3\" >61</th>\n",
       "      <td id=\"T_7f373_row3_col0\" class=\"data row3 col0\" >Chennai Super Kings</td>\n",
       "      <td id=\"T_7f373_row3_col1\" class=\"data row3 col1\" >240</td>\n",
       "    </tr>\n",
       "    <tr>\n",
       "      <th id=\"T_7f373_level0_row4\" class=\"row_heading level0 row4\" >562</th>\n",
       "      <td id=\"T_7f373_row4_col0\" class=\"data row4 col0\" >Royal Challengers Bangalore</td>\n",
       "      <td id=\"T_7f373_row4_col1\" class=\"data row4 col1\" >235</td>\n",
       "    </tr>\n",
       "    <tr>\n",
       "      <th id=\"T_7f373_level0_row5\" class=\"row_heading level0 row5\" >296</th>\n",
       "      <td id=\"T_7f373_row5_col0\" class=\"data row5 col0\" >Kings XI Punjab</td>\n",
       "      <td id=\"T_7f373_row5_col1\" class=\"data row5 col1\" >232</td>\n",
       "    </tr>\n",
       "    <tr>\n",
       "      <th id=\"T_7f373_level0_row6\" class=\"row_heading level0 row6\" >259</th>\n",
       "      <td id=\"T_7f373_row6_col0\" class=\"data row6 col0\" >Delhi Daredevils</td>\n",
       "      <td id=\"T_7f373_row6_col1\" class=\"data row6 col1\" >231</td>\n",
       "    </tr>\n",
       "    <tr>\n",
       "      <th id=\"T_7f373_level0_row7\" class=\"row_heading level0 row7\" >486</th>\n",
       "      <td id=\"T_7f373_row7_col0\" class=\"data row7 col0\" >Kings XI Punjab</td>\n",
       "      <td id=\"T_7f373_row7_col1\" class=\"data row7 col1\" >231</td>\n",
       "    </tr>\n",
       "    <tr>\n",
       "      <th id=\"T_7f373_level0_row8\" class=\"row_heading level0 row8\" >50</th>\n",
       "      <td id=\"T_7f373_row8_col0\" class=\"data row8 col0\" >Kings XI Punjab</td>\n",
       "      <td id=\"T_7f373_row8_col1\" class=\"data row8 col1\" >230</td>\n",
       "    </tr>\n",
       "    <tr>\n",
       "      <th id=\"T_7f373_level0_row9\" class=\"row_heading level0 row9\" >580</th>\n",
       "      <td id=\"T_7f373_row9_col0\" class=\"data row9 col0\" >Royal Challengers Bangalore</td>\n",
       "      <td id=\"T_7f373_row9_col1\" class=\"data row9 col1\" >227</td>\n",
       "    </tr>\n",
       "    <tr>\n",
       "      <th id=\"T_7f373_level0_row10\" class=\"row_heading level0 row10\" >516</th>\n",
       "      <td id=\"T_7f373_row10_col0\" class=\"data row10 col0\" >Kings XI Punjab</td>\n",
       "      <td id=\"T_7f373_row10_col1\" class=\"data row10 col1\" >226</td>\n",
       "    </tr>\n",
       "    <tr>\n",
       "      <th id=\"T_7f373_level0_row11\" class=\"row_heading level0 row11\" >557</th>\n",
       "      <td id=\"T_7f373_row11_col0\" class=\"data row11 col0\" >Royal Challengers Bangalore</td>\n",
       "      <td id=\"T_7f373_row11_col1\" class=\"data row11 col1\" >226</td>\n",
       "    </tr>\n",
       "  </tbody>\n",
       "</table>\n"
      ],
      "text/plain": [
       "<pandas.io.formats.style.Styler at 0x1a16f990c40>"
      ]
     },
     "execution_count": 24,
     "metadata": {},
     "output_type": "execute_result"
    }
   ],
   "source": [
    "team_score_df = df1.groupby(['match_id', 'batting_team'])['total_runs'].sum().reset_index()  # Total runs scored by team per match\n",
    "team_score_more_225 = team_score_df[team_score_df['total_runs']>225].set_index('match_id')   # Teams scored >225 runs\n",
    "team_score_more_225.sort_values(by='total_runs', ascending=False).style.background_gradient(cmap='PuBu')  # sorting based on runs & table plot with gradient color"
   ]
  },
  {
   "cell_type": "markdown",
   "id": "rjsZaDJzAmIr",
   "metadata": {
    "id": "rjsZaDJzAmIr"
   },
   "source": [
    "**Observations:**\n",
    "1. Royal Challengers Bangalore scored highest 263 runs across the tournament.\n",
    "2. Royal Challengers Bangalore scored >225 runs 5 times.\n",
    "3. Kings XI Punjab scored >225 runs 4 times.\n",
    "4. Chennai Super Kings scored >225 runs 2 times.\n",
    "\n",
    "**Tabular visual** is selected to show the precise value of Runs scored by the teams. We can easily rank the team as per runs scored and also no. of times they scored >225 runs.\n",
    "\n",
    "**Pre-attentive attributes used:**\n",
    "1. Color intensity: Runs in descending order shown with gradient color variation. Higher runs have high color intensity and vice versa.\n",
    "2. Text : Uses of text to show the precise run scored by the teams\n",
    "\n",
    "**Gestalt principles used:**\n",
    "1. Gestalt law of Continuity : Things aligned with each other in some order. Runs by the teams are shown in descending order for easy comparison.\n",
    "2. Gestalt law of Pragnanz (Simplicity) : Simpler things are grasped easily than the complex ones. Tabular view with number and text are easier to understand."
   ]
  },
  {
   "cell_type": "markdown",
   "id": "63fe77e9",
   "metadata": {
    "id": "63fe77e9"
   },
   "source": [
    "# Group's choice-2 Marks\n",
    " \n",
    "#### Frame 1 (more) question which will help in the EDA(Exploratory Data Analysis) of the given data set and answer the same using the best visual.\n",
    " \n",
    " 1. Write the question in a markdown cell\n",
    " 2. Below the question,in a coding cell,write the python code to create the visual to answer the question  \n",
    "\n",
    "<h4> Answer in markdown cells below the visual <br><br>\n",
    "   1.Summarise your findings from the visual.<br>\n",
    "   2.The reason for selecting the chart type you did <br>\n",
    "   3.Mention the pre-attentive attributes used.(atleast 2)<br>\n",
    "   4.Mention the gestalt principles used.(atleast 2)<br>"
   ]
  },
  {
   "cell_type": "markdown",
   "id": "yEgQPV8J0SDv",
   "metadata": {
    "id": "yEgQPV8J0SDv"
   },
   "source": [
    "Question: Who is the highest wicket taking bowler and Top 10 leading wicket taker of all time"
   ]
  },
  {
   "cell_type": "code",
   "execution_count": 25,
   "id": "5GB11NJPvCth",
   "metadata": {
    "colab": {
     "base_uri": "https://localhost:8080/",
     "height": 369
    },
    "id": "5GB11NJPvCth",
    "outputId": "25adc729-3abe-4255-e0ed-672ec310dcd3"
   },
   "outputs": [
    {
     "data": {
      "image/png": "[encoded data removed]",
      "text/plain": [
       "<Figure size 576x288 with 1 Axes>"
      ]
     },
     "metadata": {
      "needs_background": "light"
     },
     "output_type": "display_data"
    }
   ],
   "source": [
    "df1['dismissal_kind'].unique()   # unique dismissal types\n",
    "# Selecting type of dismissal kinds which are considered for Bowlers\n",
    "wicket_type = ['caught', 'bowled', 'lbw', 'caught and bowled', 'stumped', 'hit wicket']\n",
    "wicket = df1[df1['dismissal_kind'].isin(wicket_type)]\n",
    "wicket_by_bowler = wicket['bowler'].value_counts()   # count of wickets by bowlers\n",
    "\n",
    "max_wicket = max(wicket_by_bowler.values)\n",
    "clrs = ['blue' if (x==max_wicket) else 'grey' for x in wicket_by_bowler.values]   # set color for barplot\n",
    "fig, ax = plt.subplots(figsize=(8,4))     # set figure size\n",
    "bar_wicket = sns.barplot(y=wicket_by_bowler[:10].index, x=wicket_by_bowler[:10], palette=clrs)   # Barplot to show top 10 wicket takers\n",
    "# show bar label\n",
    "for i in bar_wicket.containers:\n",
    "  bar_wicket.bar_label(i, )\n",
    "plt.title('Top 10 Leading wicket takers of all time', fontsize=16, loc='left')  # title of plot\n",
    "#plt.xlabel('No. of wickets', fontsize=14)   # x-axis label\n",
    "plt.ylabel('Bowler', fontsize=14)     # y-axis label\n",
    "ax.spines['right'].set_color('None')  # Removing right border\n",
    "ax.spines['top'].set_color('None')    # Removing top border\n",
    "ax.spines['bottom'].set_color('None') # Removing bottom border\n",
    "ax.get_xaxis().set_visible(False)     # Hiding x-axis\n",
    "plt.show()"
   ]
  },
  {
   "cell_type": "markdown",
   "id": "Mc1IJMeszeIe",
   "metadata": {
    "id": "Mc1IJMeszeIe"
   },
   "source": [
    "**Observations:**\n",
    "1. SL Malinga is the leading wicket taker (154 wickets).\n",
    "2. A Mishra (134 wickets) and Harbhajan Singh (127 wickets) secured 2nd and 3rd position among top 10 wicket takers.\n",
    "3. Among top 10 wickets takers, 8 are Indian players.\n",
    "4. These top 10 wicket takers have got >=100 wickets.\n",
    "\n",
    "**Bar chart** is selected as we have one categorical variable (Bowler) and another one is numerical variable (No. of wickets). Also, Bar chart is better to show the ranking.\n",
    "\n",
    "**Pre-attentive attributes used:**\n",
    "1. Color : Blue color to show top most wicket taker and Grey color to show remaining top 9 wicket taking players.\n",
    "2. Text : No. of wickets labelled directly over bar to reduce cognitive load\n",
    "\n",
    "**Gestalt principles used:**\n",
    "1. Gestalt law of Similarity : Objects with similar color are perceived as a group. Top 10 player-of-the-match award winning players are colored in grey except SL Malinga (Top most wicket taker) as they form one group.\n",
    "2. Gestalt law of Continuity : Things aligned with each other in some order. Bars plotted in descending order as per no. of wickets taken by the players to reflect ranking among them.\n",
    "3. Gestalt law of Focal point : Distinct object creates a focal point. Top most wicket taking player shown in blue color (remaining 9 wicket takers are shown in grey color) which is the point of focus."
   ]
  },
  {
   "cell_type": "markdown",
   "id": "f1ef1fd9",
   "metadata": {
    "id": "f1ef1fd9"
   },
   "source": [
    "<h1><center> ************ END OF ASSIGNMENT ****************</center></h1>"
   ]
  }
 ],
 "metadata": {
  "colab": {
   "provenance": []
  },
  "kernelspec": {
   "display_name": "Python 3 (ipykernel)",
   "language": "python",
   "name": "python3"
  },
  "language_info": {
   "codemirror_mode": {
    "name": "ipython",
    "version": 3
   },
   "file_extension": ".py",
   "mimetype": "text/x-python",
   "name": "python",
   "nbconvert_exporter": "python",
   "pygments_lexer": "ipython3",
   "version": "3.9.7"
  }
 },
 "nbformat": 4,
 "nbformat_minor": 5
}
